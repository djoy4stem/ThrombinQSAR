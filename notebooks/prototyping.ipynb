{
 "cells": [
  {
   "cell_type": "code",
   "execution_count": 1,
   "metadata": {},
   "outputs": [
    {
     "data": {
      "text/plain": [
       "'/home/djoy2409-wsl/projects/software_development/ThrombinQSAR'"
      ]
     },
     "execution_count": 1,
     "metadata": {},
     "output_type": "execute_result"
    }
   ],
   "source": [
    "## IPython extension to reload modules before executing user code.\n",
    "# Autorelad is an IPython extension to reload modules before executing user code.\n",
    "%load_ext autoreload\n",
    "\n",
    "# Reload all modules (except those excluded by %aimport) every time before executing the Python code typed.\n",
    "%autoreload 2\n",
    "\n",
    "\n",
    "import os, sys\n",
    "ROOT_DIR = os.sep.join(os.path.abspath('.').split(os.sep)[:-1]) # +'/lib'\n",
    "sys.path.insert(0, ROOT_DIR)\n",
    "# sys.path.insert(0, ROOT_DIR + '/lib')\n",
    "ROOT_DIR"
   ]
  },
  {
   "cell_type": "code",
   "execution_count": 2,
   "metadata": {},
   "outputs": [
    {
     "name": "stderr",
     "output_type": "stream",
     "text": [
      "Failed to find the pandas get_adjustment() function to patch\n",
      "Failed to patch pandas - PandasTools will have limited functionality\n"
     ]
    },
    {
     "name": "stdout",
     "output_type": "stream",
     "text": [
      "BASE_DIR /home/djoy2409-wsl/projects/software_development/ThrombinQSAR\n",
      "CONFIG_PATH_ /home/djoy2409-wsl/projects/software_development/ThrombinQSAR/data/config.yml\n"
     ]
    }
   ],
   "source": [
    "from sklearn.metrics import mean_squared_error, mean_absolute_error\n",
    "from lightgbm import LGBMRegressor\n",
    "\n",
    "import lib\n",
    "from lib import steps\n",
    "from lib.steps import DataAcquisition, Trainer, FeaturizingAndCleaningObject, ThrombinQSARModel"
   ]
  },
  {
   "cell_type": "code",
   "execution_count": 46,
   "metadata": {},
   "outputs": [
    {
     "name": "stdout",
     "output_type": "stream",
     "text": [
      "BASE_DIR /home/djoy2409-wsl/projects/software_development/ThrombinQSAR\n",
      "CONFIG_PATH_ /home/djoy2409-wsl/projects/software_development/ThrombinQSAR/data/config.yml\n"
     ]
    }
   ],
   "source": [
    "\n",
    "# # da = DataAcquisition()\n",
    "# # print(da.config)\n",
    "# # train, val, test = da.get_data()\n",
    "# dir(da.fc_object.standardizer)"
   ]
  },
  {
   "cell_type": "code",
   "execution_count": 48,
   "metadata": {},
   "outputs": [
    {
     "name": "stderr",
     "output_type": "stream",
     "text": [
      "[I 2024-11-28 07:01:55,862] A new study created in memory with name: no-name-af8fc935-c6b0-42a4-99ac-cbbd1c193025\n",
      "[I 2024-11-28 07:01:55,998] Trial 0 finished with value: 1.2185014384699044 and parameters: {'colsample_bytree': 0.5316510361182502, 'importance_type': 'split', 'learning_rate': 0.17612631177377622, 'max_depth': 21, 'min_child_samples': 23, 'min_child_weight': 0.587623576069629, 'min_split_gain': 0.018381193856051244, 'n_estimators': 137, 'n_jobs': 8, 'num_leaves': 59, 'random_state': 123, 'subsample': 0.7220139666277159, 'verbose': -1}. Best is trial 0 with value: 1.2185014384699044.\n"
     ]
    },
    {
     "name": "stdout",
     "output_type": "stream",
     "text": [
      "curr_model_params = {'model': <class 'lightgbm.sklearn.LGBMRegressor'>, 'params': {'colsample_bytree': [0.1, 1], 'importance_type': ['gain', 'split'], 'learning_rate': [0.01, 0.5], 'max_depth': [2, 50], 'min_child_samples': [2, 100], 'min_child_weight': [0.01, 1], 'min_split_gain': [0.001, 0.1], 'n_estimators': [5, 200], 'n_jobs': 8, 'num_leaves': [2, 100], 'random_state': 123, 'subsample': [0.1, 1.0], 'verbose': -1}}\n",
      "\n",
      "Saving best model...\n",
      "\n",
      "Saving config...\n",
      "\n",
      "\n",
      "best value 1.2185014384699044\n",
      "best params {'colsample_bytree': 0.5316510361182502, 'importance_type': 'split', 'learning_rate': 0.17612631177377622, 'max_depth': 21, 'min_child_samples': 23, 'min_child_weight': 0.587623576069629, 'min_split_gain': 0.018381193856051244, 'n_estimators': 137, 'n_jobs': 8, 'num_leaves': 59, 'random_state': 123, 'subsample': 0.7220139666277159, 'verbose': -1}\n",
      "\n",
      "\n",
      "mae_score 1.1993812987049626\n",
      "mse_score 2.1394353679409988\n"
     ]
    }
   ],
   "source": [
    "\n",
    "trainer = Trainer()\n",
    "trainer.train(\n",
    "            scoring_function=mean_absolute_error,                                     \n",
    "            num_trials=1,\n",
    "            standardize=False,\n",
    "            n_jobs=1)\n",
    "\n",
    "print(\"\\n\\nbest value\",  trainer.best_results[0][\"best_value\"])  \n",
    "print(\"best params\", trainer.best_results[0][\"best_params\"])  \n",
    "\n",
    "predictor = ThrombinQSARModel()\n",
    "# predictor.train(\n",
    "#             scoring_function=mean_absolute_error,                                     \n",
    "#             num_trials=200,\n",
    "#             standardize=False,\n",
    "#             n_jobs=1)\n",
    "y_test_pred = predictor.model.predict(test[test.columns.difference([predictor.target_col])])\n",
    "mae_score = mean_absolute_error(test[predictor.target_col], y_test_pred)\n",
    "mse_score = mean_squared_error(test[predictor.target_col], y_test_pred)\n",
    "\n",
    "print(\"\\n\\nmae_score\",  mae_score)\n",
    "print(\"mse_score\",  mse_score) "
   ]
  },
  {
   "cell_type": "code",
   "execution_count": null,
   "metadata": {},
   "outputs": [],
   "source": [
    "mean_absolute_error.__name__"
   ]
  },
  {
   "cell_type": "code",
   "execution_count": 6,
   "metadata": {},
   "outputs": [],
   "source": [
    "import mlflow"
   ]
  },
  {
   "cell_type": "code",
   "execution_count": 35,
   "metadata": {},
   "outputs": [],
   "source": [
    "# help(mlflow.set_experiment)"
   ]
  },
  {
   "cell_type": "code",
   "execution_count": 31,
   "metadata": {},
   "outputs": [],
   "source": [
    "# dir(mlflow)"
   ]
  },
  {
   "cell_type": "code",
   "execution_count": 32,
   "metadata": {},
   "outputs": [],
   "source": [
    "# import time\n",
    "# dir(time)"
   ]
  },
  {
   "cell_type": "code",
   "execution_count": 27,
   "metadata": {},
   "outputs": [
    {
     "data": {
      "text/plain": [
       "'11/27/2024 at 20h59m59s'"
      ]
     },
     "execution_count": 27,
     "metadata": {},
     "output_type": "execute_result"
    }
   ],
   "source": [
    "tm = time.localtime()\n",
    "tm = f\"{tm.tm_mon}/{tm.tm_mday}/{tm.tm_year} at {tm.tm_hour}h{tm.tm_min}m{tm.tm_sec}s\"\n",
    "tm"
   ]
  },
  {
   "cell_type": "code",
   "execution_count": 34,
   "metadata": {},
   "outputs": [
    {
     "name": "stdout",
     "output_type": "stream",
     "text": [
      "BASE_DIR /home/djoy2409-wsl/projects/software_development/ThrombinQSAR\n",
      "CONFIG_PATH_ /home/djoy2409-wsl/projects/software_development/ThrombinQSAR/data/config.yml\n"
     ]
    }
   ],
   "source": [
    "# help(mlflow.sklearn.load_model)"
   ]
  },
  {
   "cell_type": "code",
   "execution_count": 2,
   "metadata": {},
   "outputs": [],
   "source": [
    "# hasattr(predictor.featurizer_cleaner.standardizer, 'mean_'), dir(predictor.featurizer_cleaner.standardizer)"
   ]
  },
  {
   "cell_type": "code",
   "execution_count": 3,
   "metadata": {},
   "outputs": [
    {
     "data": {
      "text/plain": [
       "PosixPath('/home/djoy2409-wsl/projects/software_development/ThrombinQSAR')"
      ]
     },
     "execution_count": 3,
     "metadata": {},
     "output_type": "execute_result"
    }
   ],
   "source": [
    "from lib import steps\n",
    "steps.BASE_DIR"
   ]
  },
  {
   "cell_type": "code",
   "execution_count": 31,
   "metadata": {},
   "outputs": [
    {
     "name": "stdout",
     "output_type": "stream",
     "text": [
      "file:///home/djoy2409-wsl/projects/software_development/ThrombinQSAR/mlruns\n"
     ]
    },
    {
     "name": "stderr",
     "output_type": "stream",
     "text": [
      "/tmp/ipykernel_385780/1759475154.py:9: FutureWarning: ``mlflow.tracking.client.MlflowClient.get_model_version_stages`` is deprecated since 2.9.0. Model registry stages will be removed in a future major release. To learn more about the deprecation of model registry stages, see our migration guide here: https://mlflow.org/docs/latest/model-registry.html#migrating-from-stages\n",
      "  client.get_model_version_stages(model_name, version=\"latest\")\n"
     ]
    },
    {
     "data": {
      "text/plain": [
       "['None', 'Staging', 'Production', 'Archived']"
      ]
     },
     "execution_count": 31,
     "metadata": {},
     "output_type": "execute_result"
    }
   ],
   "source": [
    "import mlflow\n",
    "from mlflow.tracking import MlflowClient\n",
    "client =  MlflowClient()\n",
    "\n",
    "mlflow.set_tracking_uri(f\"file://{steps.BASE_DIR}/mlruns\")\n",
    "print(mlflow.get_tracking_uri())\n",
    "\n",
    "model_name = \"thrombin_inhib_model\"\n",
    "client.get_model_version_stages(model_name, version=\"latest\")"
   ]
  },
  {
   "cell_type": "markdown",
   "metadata": {},
   "source": [
    "##### Accessing experiments and runs"
   ]
  },
  {
   "cell_type": "code",
   "execution_count": 32,
   "metadata": {},
   "outputs": [
    {
     "data": {
      "text/plain": [
       "[<Experiment: artifact_location='file:///home/djoy2409-wsl/projects/software_development/ThrombinQSAR/mlruns/819500351616326604', creation_time=1734310705288, experiment_id='819500351616326604', last_update_time=1734310705288, lifecycle_stage='active', name='Thrombin Inhibition Model Training Experiment: 12/15/2024 at 16h58m25s', tags={}>,\n",
       " <Experiment: artifact_location='file:///home/djoy2409-wsl/projects/software_development/ThrombinQSAR/mlruns/341421928812750434', creation_time=1734310544127, experiment_id='341421928812750434', last_update_time=1734310544127, lifecycle_stage='active', name='Thrombin Inhibition Model Training Experiment: 12/15/2024 at 16h55m44s', tags={}>]"
      ]
     },
     "execution_count": 32,
     "metadata": {},
     "output_type": "execute_result"
    }
   ],
   "source": [
    "from mlflow.entities import ViewType\n",
    "\n",
    "mlflow.search_experiments(view_type=ViewType.ALL)"
   ]
  },
  {
   "cell_type": "code",
   "execution_count": 7,
   "metadata": {},
   "outputs": [],
   "source": [
    "# print(mlflow.get_experiment_by_name('Thrombin Inhibition Model Training Experiment: 12/15/2024 at 14h6m5s'))\n",
    "# print(mlflow.get_experiment('837730816504788004'))"
   ]
  },
  {
   "cell_type": "code",
   "execution_count": 33,
   "metadata": {},
   "outputs": [
    {
     "data": {
      "text/plain": [
       "[<Experiment: artifact_location='file:///home/djoy2409-wsl/projects/software_development/ThrombinQSAR/mlruns/819500351616326604', creation_time=1734310705288, experiment_id='819500351616326604', last_update_time=1734310705288, lifecycle_stage='active', name='Thrombin Inhibition Model Training Experiment: 12/15/2024 at 16h58m25s', tags={}>,\n",
       " <Experiment: artifact_location='file:///home/djoy2409-wsl/projects/software_development/ThrombinQSAR/mlruns/341421928812750434', creation_time=1734310544127, experiment_id='341421928812750434', last_update_time=1734310544127, lifecycle_stage='active', name='Thrombin Inhibition Model Training Experiment: 12/15/2024 at 16h55m44s', tags={}>]"
      ]
     },
     "execution_count": 33,
     "metadata": {},
     "output_type": "execute_result"
    }
   ],
   "source": [
    "## Search experiments\n",
    "# exper = mlflow.search_experiments(filter_string=\"creation_time > 1734299663508\")\n",
    "exper = mlflow.search_experiments(filter_string=\"creation_time > 1734299663508\")\n",
    "exper"
   ]
  },
  {
   "cell_type": "code",
   "execution_count": 34,
   "metadata": {},
   "outputs": [
    {
     "data": {
      "text/html": [
       "<div>\n",
       "<style scoped>\n",
       "    .dataframe tbody tr th:only-of-type {\n",
       "        vertical-align: middle;\n",
       "    }\n",
       "\n",
       "    .dataframe tbody tr th {\n",
       "        vertical-align: top;\n",
       "    }\n",
       "\n",
       "    .dataframe thead th {\n",
       "        text-align: right;\n",
       "    }\n",
       "</style>\n",
       "<table border=\"1\" class=\"dataframe\">\n",
       "  <thead>\n",
       "    <tr style=\"text-align: right;\">\n",
       "      <th></th>\n",
       "      <th>run_id</th>\n",
       "      <th>experiment_id</th>\n",
       "      <th>status</th>\n",
       "      <th>artifact_uri</th>\n",
       "      <th>start_time</th>\n",
       "      <th>end_time</th>\n",
       "      <th>metrics.best_test_mse</th>\n",
       "      <th>metrics.best_val_mae</th>\n",
       "      <th>metrics.best_test_mae</th>\n",
       "      <th>params.num_leaves</th>\n",
       "      <th>...</th>\n",
       "      <th>params.n_estimators</th>\n",
       "      <th>params.min_child_weight</th>\n",
       "      <th>tags.mlflow.user</th>\n",
       "      <th>tags.mlflow.source.name</th>\n",
       "      <th>tags.mlflow.source.type</th>\n",
       "      <th>tags.mlflow.runName</th>\n",
       "      <th>tags.mlflow.source.git.commit</th>\n",
       "      <th>tags.split_type</th>\n",
       "      <th>tags.mlflow.log-model.history</th>\n",
       "      <th>tags.model_developer</th>\n",
       "    </tr>\n",
       "  </thead>\n",
       "  <tbody>\n",
       "    <tr>\n",
       "      <th>0</th>\n",
       "      <td>b002f461a3c84458b19dcb76b162563b</td>\n",
       "      <td>341421928812750434</td>\n",
       "      <td>FAILED</td>\n",
       "      <td>file:///home/djoy2409-wsl/projects/software_de...</td>\n",
       "      <td>2024-12-16 00:55:44.341000+00:00</td>\n",
       "      <td>2024-12-16 00:55:59.879000+00:00</td>\n",
       "      <td>NaN</td>\n",
       "      <td>NaN</td>\n",
       "      <td>NaN</td>\n",
       "      <td>None</td>\n",
       "      <td>...</td>\n",
       "      <td>None</td>\n",
       "      <td>None</td>\n",
       "      <td>djoy2409-wsl</td>\n",
       "      <td>main.py</td>\n",
       "      <td>LOCAL</td>\n",
       "      <td>dazzling-wren-423</td>\n",
       "      <td>70518ddaae658f6e43f58be7b19d14da72ee28bf</td>\n",
       "      <td>None</td>\n",
       "      <td>None</td>\n",
       "      <td>None</td>\n",
       "    </tr>\n",
       "    <tr>\n",
       "      <th>1</th>\n",
       "      <td>625149899c6d4101b8cf9789e04a2ece</td>\n",
       "      <td>819500351616326604</td>\n",
       "      <td>FINISHED</td>\n",
       "      <td>file:///home/djoy2409-wsl/projects/software_de...</td>\n",
       "      <td>2024-12-16 00:58:25.485000+00:00</td>\n",
       "      <td>2024-12-16 00:58:36.021000+00:00</td>\n",
       "      <td>2.0591</td>\n",
       "      <td>1.0234</td>\n",
       "      <td>1.1827</td>\n",
       "      <td>99</td>\n",
       "      <td>...</td>\n",
       "      <td>267</td>\n",
       "      <td>0.655108975412092</td>\n",
       "      <td>djoy2409-wsl</td>\n",
       "      <td>main.py</td>\n",
       "      <td>LOCAL</td>\n",
       "      <td>rumbling-quail-831</td>\n",
       "      <td>70518ddaae658f6e43f58be7b19d14da72ee28bf</td>\n",
       "      <td>scaffold_split</td>\n",
       "      <td>[{\"run_id\": \"625149899c6d4101b8cf9789e04a2ece\"...</td>\n",
       "      <td>djoy4stem</td>\n",
       "    </tr>\n",
       "  </tbody>\n",
       "</table>\n",
       "<p>2 rows × 30 columns</p>\n",
       "</div>"
      ],
      "text/plain": [
       "                             run_id       experiment_id    status  \\\n",
       "0  b002f461a3c84458b19dcb76b162563b  341421928812750434    FAILED   \n",
       "1  625149899c6d4101b8cf9789e04a2ece  819500351616326604  FINISHED   \n",
       "\n",
       "                                        artifact_uri  \\\n",
       "0  file:///home/djoy2409-wsl/projects/software_de...   \n",
       "1  file:///home/djoy2409-wsl/projects/software_de...   \n",
       "\n",
       "                        start_time                         end_time  \\\n",
       "0 2024-12-16 00:55:44.341000+00:00 2024-12-16 00:55:59.879000+00:00   \n",
       "1 2024-12-16 00:58:25.485000+00:00 2024-12-16 00:58:36.021000+00:00   \n",
       "\n",
       "   metrics.best_test_mse  metrics.best_val_mae  metrics.best_test_mae  \\\n",
       "0                    NaN                   NaN                    NaN   \n",
       "1                 2.0591                1.0234                 1.1827   \n",
       "\n",
       "  params.num_leaves  ... params.n_estimators params.min_child_weight  \\\n",
       "0              None  ...                None                    None   \n",
       "1                99  ...                 267       0.655108975412092   \n",
       "\n",
       "  tags.mlflow.user tags.mlflow.source.name tags.mlflow.source.type  \\\n",
       "0     djoy2409-wsl                 main.py                   LOCAL   \n",
       "1     djoy2409-wsl                 main.py                   LOCAL   \n",
       "\n",
       "  tags.mlflow.runName             tags.mlflow.source.git.commit  \\\n",
       "0   dazzling-wren-423  70518ddaae658f6e43f58be7b19d14da72ee28bf   \n",
       "1  rumbling-quail-831  70518ddaae658f6e43f58be7b19d14da72ee28bf   \n",
       "\n",
       "  tags.split_type                      tags.mlflow.log-model.history  \\\n",
       "0            None                                               None   \n",
       "1  scaffold_split  [{\"run_id\": \"625149899c6d4101b8cf9789e04a2ece\"...   \n",
       "\n",
       "  tags.model_developer  \n",
       "0                 None  \n",
       "1            djoy4stem  \n",
       "\n",
       "[2 rows x 30 columns]"
      ]
     },
     "execution_count": 34,
     "metadata": {},
     "output_type": "execute_result"
    }
   ],
   "source": [
    "## Query and search runs\n",
    "\n",
    "# mlflow.search_runs(experiment_ids=[ '650336077219628063',  '540051849989307464', '432783084968555630'], \n",
    "#                    order_by=[\"attributes.status\"])\n",
    "\n",
    "mlflow.search_runs(experiment_ids = [xp.experiment_id for xp in mlflow.search_experiments(view_type=ViewType.ALL)], order_by=[\"attributes.status\"]).head()"
   ]
  },
  {
   "cell_type": "markdown",
   "metadata": {},
   "source": [
    "##### Accessing models"
   ]
  },
  {
   "cell_type": "code",
   "execution_count": 35,
   "metadata": {},
   "outputs": [
    {
     "name": "stdout",
     "output_type": "stream",
     "text": [
      "thrombin_inhib_model\n"
     ]
    },
    {
     "data": {
      "text/plain": [
       "(1,\n",
       " [<RegisteredModel: aliases={}, creation_timestamp=1734310716010, description=None, last_updated_timestamp=1734310716016, latest_versions=[<ModelVersion: aliases=[], creation_timestamp=1734310716016, current_stage='None', description=None, last_updated_timestamp=1734310716016, name='thrombin_inhib_model', run_id='625149899c6d4101b8cf9789e04a2ece', run_link=None, source='file:///home/djoy2409-wsl/projects/software_development/ThrombinQSAR/mlruns/819500351616326604/625149899c6d4101b8cf9789e04a2ece/artifacts/model', status='READY', status_message=None, tags={}, user_id=None, version=2>], name='thrombin_inhib_model', tags={}>])"
      ]
     },
     "execution_count": 35,
     "metadata": {},
     "output_type": "execute_result"
    }
   ],
   "source": [
    "for model in client.search_registered_models():\n",
    "    print(f\"{model.name}\")\n",
    "\n",
    "models = client.search_registered_models(order_by=[\"name ASC\"])\n",
    "len(models), models"
   ]
  },
  {
   "cell_type": "code",
   "execution_count": 13,
   "metadata": {},
   "outputs": [],
   "source": [
    "# client.get_latest_versions(model_name, stages=None)"
   ]
  },
  {
   "cell_type": "code",
   "execution_count": 30,
   "metadata": {},
   "outputs": [],
   "source": [
    "## Retrieving a model of a specific version\n",
    "# client.get_model_version(model_name, version=1)"
   ]
  },
  {
   "cell_type": "code",
   "execution_count": 15,
   "metadata": {},
   "outputs": [],
   "source": [
    "# client.get_latest_versions(model_name, stages=[\"Staging\"])"
   ]
  },
  {
   "cell_type": "code",
   "execution_count": 36,
   "metadata": {},
   "outputs": [
    {
     "name": "stdout",
     "output_type": "stream",
     "text": [
      "latest_mv (version = 2) = <ModelVersion: aliases=[], creation_timestamp=1734310716016, current_stage='None', description=None, last_updated_timestamp=1734310716016, name='thrombin_inhib_model', run_id='625149899c6d4101b8cf9789e04a2ece', run_link=None, source='file:///home/djoy2409-wsl/projects/software_development/ThrombinQSAR/mlruns/819500351616326604/625149899c6d4101b8cf9789e04a2ece/artifacts/model', status='READY', status_message=None, tags={}, user_id=None, version=2>\n"
     ]
    },
    {
     "name": "stderr",
     "output_type": "stream",
     "text": [
      "/tmp/ipykernel_385780/3795046243.py:2: FutureWarning: ``mlflow.tracking.client.MlflowClient.get_latest_versions`` is deprecated since 2.9.0. Model registry stages will be removed in a future major release. To learn more about the deprecation of model registry stages, see our migration guide here: https://mlflow.org/docs/latest/model-registry.html#migrating-from-stages\n",
      "  versions_by_stages = client.get_latest_versions(model_name, stages=[stage])\n",
      "/tmp/ipykernel_385780/3795046243.py:5: FutureWarning: ``mlflow.tracking.client.MlflowClient.get_latest_versions`` is deprecated since 2.9.0. Model registry stages will be removed in a future major release. To learn more about the deprecation of model registry stages, see our migration guide here: https://mlflow.org/docs/latest/model-registry.html#migrating-from-stages\n",
      "  latest_mv = client.get_latest_versions(model_name, stages=[\"None\"])[0]\n",
      "/tmp/ipykernel_385780/3795046243.py:12: FutureWarning: ``mlflow.tracking.client.MlflowClient.transition_model_version_stage`` is deprecated since 2.9.0. Model registry stages will be removed in a future major release. To learn more about the deprecation of model registry stages, see our migration guide here: https://mlflow.org/docs/latest/model-registry.html#migrating-from-stages\n",
      "  client.transition_model_version_stage(\n",
      "/tmp/ipykernel_385780/3795046243.py:18: FutureWarning: ``mlflow.tracking.client.MlflowClient.transition_model_version_stage`` is deprecated since 2.9.0. Model registry stages will be removed in a future major release. To learn more about the deprecation of model registry stages, see our migration guide here: https://mlflow.org/docs/latest/model-registry.html#migrating-from-stages\n",
      "  client.transition_model_version_stage(\n",
      "/tmp/ipykernel_385780/3795046243.py:25: FutureWarning: ``mlflow.tracking.client.MlflowClient.transition_model_version_stage`` is deprecated since 2.9.0. Model registry stages will be removed in a future major release. To learn more about the deprecation of model registry stages, see our migration guide here: https://mlflow.org/docs/latest/model-registry.html#migrating-from-stages\n",
      "  client.transition_model_version_stage(\n"
     ]
    },
    {
     "data": {
      "text/plain": [
       "<ModelVersion: aliases=[], creation_timestamp=1734310716016, current_stage='Production', description=None, last_updated_timestamp=1734310759877, name='thrombin_inhib_model', run_id='625149899c6d4101b8cf9789e04a2ece', run_link=None, source='file:///home/djoy2409-wsl/projects/software_development/ThrombinQSAR/mlruns/819500351616326604/625149899c6d4101b8cf9789e04a2ece/artifacts/model', status='READY', status_message=None, tags={}, user_id=None, version=2>"
      ]
     },
     "execution_count": 36,
     "metadata": {},
     "output_type": "execute_result"
    }
   ],
   "source": [
    "stage = \"Production\"\n",
    "versions_by_stages = client.get_latest_versions(model_name, stages=[stage])\n",
    "latest_mv = None\n",
    "if len(versions_by_stages) == 0:\n",
    "    latest_mv = client.get_latest_versions(model_name, stages=[\"None\"])[0]\n",
    "else:\n",
    "    latest_mv = versions_by_stages[0] ## latest model version\n",
    "\n",
    "print(f\"latest_mv (version = {latest_mv.version}) = {latest_mv}\")\n",
    "\n",
    "## Transitioning to \"production\"  stage\n",
    "client.transition_model_version_stage(\n",
    "    name=model_name,\n",
    "    version=1,\n",
    "    stage='Production'\n",
    ")\n",
    "\n",
    "client.transition_model_version_stage(\n",
    "    name=model_name,\n",
    "    version=1,\n",
    "    stage='Archived'\n",
    ")\n",
    "\n",
    "## Transitioning to \"production\"  stage\n",
    "client.transition_model_version_stage(\n",
    "    name=model_name,\n",
    "    version=latest_mv.version,\n",
    "    stage='Production'\n",
    ")"
   ]
  },
  {
   "cell_type": "code",
   "execution_count": 37,
   "metadata": {},
   "outputs": [
    {
     "name": "stderr",
     "output_type": "stream",
     "text": [
      "/tmp/ipykernel_385780/740144028.py:1: FutureWarning: ``mlflow.tracking.client.MlflowClient.get_latest_versions`` is deprecated since 2.9.0. Model registry stages will be removed in a future major release. To learn more about the deprecation of model registry stages, see our migration guide here: https://mlflow.org/docs/latest/model-registry.html#migrating-from-stages\n",
      "  client.get_latest_versions(model_name, stages=[\"Production\"])\n"
     ]
    },
    {
     "data": {
      "text/plain": [
       "[<ModelVersion: aliases=[], creation_timestamp=1734310716016, current_stage='Production', description=None, last_updated_timestamp=1734310759877, name='thrombin_inhib_model', run_id='625149899c6d4101b8cf9789e04a2ece', run_link=None, source='file:///home/djoy2409-wsl/projects/software_development/ThrombinQSAR/mlruns/819500351616326604/625149899c6d4101b8cf9789e04a2ece/artifacts/model', status='READY', status_message=None, tags={}, user_id=None, version=2>]"
      ]
     },
     "execution_count": 37,
     "metadata": {},
     "output_type": "execute_result"
    }
   ],
   "source": [
    "client.get_latest_versions(model_name, stages=[\"Production\"])"
   ]
  },
  {
   "cell_type": "code",
   "execution_count": 39,
   "metadata": {},
   "outputs": [
    {
     "name": "stderr",
     "output_type": "stream",
     "text": [
      "/home/djoy2409-wsl/anaconda3/envs/thrombin/lib/python3.10/site-packages/mlflow/store/artifact/utils/models.py:31: FutureWarning: ``mlflow.tracking.client.MlflowClient.get_latest_versions`` is deprecated since 2.9.0. Model registry stages will be removed in a future major release. To learn more about the deprecation of model registry stages, see our migration guide here: https://mlflow.org/docs/latest/model-registry.html#migrating-from-stages\n",
      "  latest = client.get_latest_versions(name, None if stage is None else [stage])\n",
      "2024/12/15 17:38:07 INFO mlflow.pyfunc: To install the dependencies that were used to train the model, run the following command: '%pip install -r /home/djoy2409-wsl/projects/software_development/ThrombinQSAR/mlruns/484606078316453444/474d5d868edc423694cae4f442d0ced4/artifacts/model/requirements.txt'.\n"
     ]
    },
    {
     "data": {
      "text/plain": [
       "'/home/djoy2409-wsl/projects/software_development/ThrombinQSAR/mlruns/484606078316453444/474d5d868edc423694cae4f442d0ced4/artifacts/model/requirements.txt'"
      ]
     },
     "execution_count": 39,
     "metadata": {},
     "output_type": "execute_result"
    }
   ],
   "source": [
    "# model_name = \"thrombin_inhib_model\"\n",
    "# model_uri  = f\"models:/{model_name}/latest\"\n",
    "# mlflow.pyfunc.get_model_dependencies(model_uri=model_uri)"
   ]
  }
 ],
 "metadata": {
  "kernelspec": {
   "display_name": "thrombin",
   "language": "python",
   "name": "python3"
  },
  "language_info": {
   "codemirror_mode": {
    "name": "ipython",
    "version": 3
   },
   "file_extension": ".py",
   "mimetype": "text/x-python",
   "name": "python",
   "nbconvert_exporter": "python",
   "pygments_lexer": "ipython3",
   "version": "3.10.15"
  }
 },
 "nbformat": 4,
 "nbformat_minor": 2
}
