{
 "cells": [
  {
   "cell_type": "code",
   "execution_count": 1,
   "metadata": {},
   "outputs": [
    {
     "data": {
      "text/plain": [
       "'/home/djoy2409-wsl/projects/software_development/ThrombinQSAR'"
      ]
     },
     "execution_count": 1,
     "metadata": {},
     "output_type": "execute_result"
    }
   ],
   "source": [
    "## IPython extension to reload modules before executing user code.\n",
    "# Autorelad is an IPython extension to reload modules before executing user code.\n",
    "%load_ext autoreload\n",
    "\n",
    "# Reload all modules (except those excluded by %aimport) every time before executing the Python code typed.\n",
    "%autoreload 2\n",
    "\n",
    "\n",
    "import os, sys\n",
    "ROOT_DIR = os.sep.join(os.path.abspath('.').split(os.sep)[:-1]) # +'/lib'\n",
    "sys.path.insert(0, ROOT_DIR)\n",
    "# sys.path.insert(0, ROOT_DIR + '/lib')\n",
    "ROOT_DIR"
   ]
  },
  {
   "cell_type": "code",
   "execution_count": 2,
   "metadata": {},
   "outputs": [
    {
     "name": "stderr",
     "output_type": "stream",
     "text": [
      "Failed to find the pandas get_adjustment() function to patch\n",
      "Failed to patch pandas - PandasTools will have limited functionality\n"
     ]
    },
    {
     "name": "stdout",
     "output_type": "stream",
     "text": [
      "BASE_DIR /home/djoy2409-wsl/projects/software_development/ThrombinQSAR\n",
      "CONFIG_PATH_ /home/djoy2409-wsl/projects/software_development/ThrombinQSAR/data/config.yml\n"
     ]
    }
   ],
   "source": [
    "from sklearn.metrics import mean_squared_error, mean_absolute_error\n",
    "from lightgbm import LGBMRegressor\n",
    "\n",
    "import lib\n",
    "from lib import steps\n",
    "from lib.steps import DataAcquisition, Trainer, FeaturizingAndCleaningObject, ThrombinQSARModel"
   ]
  },
  {
   "cell_type": "code",
   "execution_count": 46,
   "metadata": {},
   "outputs": [
    {
     "name": "stdout",
     "output_type": "stream",
     "text": [
      "BASE_DIR /home/djoy2409-wsl/projects/software_development/ThrombinQSAR\n",
      "CONFIG_PATH_ /home/djoy2409-wsl/projects/software_development/ThrombinQSAR/data/config.yml\n"
     ]
    }
   ],
   "source": [
    "\n",
    "# # da = DataAcquisition()\n",
    "# # print(da.config)\n",
    "# # train, val, test = da.get_data()\n",
    "# dir(da.fc_object.standardizer)"
   ]
  },
  {
   "cell_type": "code",
   "execution_count": 48,
   "metadata": {},
   "outputs": [
    {
     "name": "stderr",
     "output_type": "stream",
     "text": [
      "[I 2024-11-28 07:01:55,862] A new study created in memory with name: no-name-af8fc935-c6b0-42a4-99ac-cbbd1c193025\n",
      "[I 2024-11-28 07:01:55,998] Trial 0 finished with value: 1.2185014384699044 and parameters: {'colsample_bytree': 0.5316510361182502, 'importance_type': 'split', 'learning_rate': 0.17612631177377622, 'max_depth': 21, 'min_child_samples': 23, 'min_child_weight': 0.587623576069629, 'min_split_gain': 0.018381193856051244, 'n_estimators': 137, 'n_jobs': 8, 'num_leaves': 59, 'random_state': 123, 'subsample': 0.7220139666277159, 'verbose': -1}. Best is trial 0 with value: 1.2185014384699044.\n"
     ]
    },
    {
     "name": "stdout",
     "output_type": "stream",
     "text": [
      "curr_model_params = {'model': <class 'lightgbm.sklearn.LGBMRegressor'>, 'params': {'colsample_bytree': [0.1, 1], 'importance_type': ['gain', 'split'], 'learning_rate': [0.01, 0.5], 'max_depth': [2, 50], 'min_child_samples': [2, 100], 'min_child_weight': [0.01, 1], 'min_split_gain': [0.001, 0.1], 'n_estimators': [5, 200], 'n_jobs': 8, 'num_leaves': [2, 100], 'random_state': 123, 'subsample': [0.1, 1.0], 'verbose': -1}}\n",
      "\n",
      "Saving best model...\n",
      "\n",
      "Saving config...\n",
      "\n",
      "\n",
      "best value 1.2185014384699044\n",
      "best params {'colsample_bytree': 0.5316510361182502, 'importance_type': 'split', 'learning_rate': 0.17612631177377622, 'max_depth': 21, 'min_child_samples': 23, 'min_child_weight': 0.587623576069629, 'min_split_gain': 0.018381193856051244, 'n_estimators': 137, 'n_jobs': 8, 'num_leaves': 59, 'random_state': 123, 'subsample': 0.7220139666277159, 'verbose': -1}\n",
      "\n",
      "\n",
      "mae_score 1.1993812987049626\n",
      "mse_score 2.1394353679409988\n"
     ]
    }
   ],
   "source": [
    "\n",
    "trainer = Trainer()\n",
    "trainer.train(\n",
    "            scoring_function=mean_absolute_error,                                     \n",
    "            num_trials=1,\n",
    "            standardize=False,\n",
    "            n_jobs=1)\n",
    "\n",
    "print(\"\\n\\nbest value\",  trainer.best_results[0][\"best_value\"])  \n",
    "print(\"best params\", trainer.best_results[0][\"best_params\"])  \n",
    "\n",
    "predictor = ThrombinQSARModel()\n",
    "# predictor.train(\n",
    "#             scoring_function=mean_absolute_error,                                     \n",
    "#             num_trials=200,\n",
    "#             standardize=False,\n",
    "#             n_jobs=1)\n",
    "y_test_pred = predictor.model.predict(test[test.columns.difference([predictor.target_col])])\n",
    "mae_score = mean_absolute_error(test[predictor.target_col], y_test_pred)\n",
    "mse_score = mean_squared_error(test[predictor.target_col], y_test_pred)\n",
    "\n",
    "print(\"\\n\\nmae_score\",  mae_score)\n",
    "print(\"mse_score\",  mse_score) "
   ]
  },
  {
   "cell_type": "code",
   "execution_count": null,
   "metadata": {},
   "outputs": [],
   "source": [
    "mean_absolute_error.__name__"
   ]
  },
  {
   "cell_type": "code",
   "execution_count": 6,
   "metadata": {},
   "outputs": [],
   "source": [
    "import mlflow"
   ]
  },
  {
   "cell_type": "code",
   "execution_count": 35,
   "metadata": {},
   "outputs": [],
   "source": [
    "# help(mlflow.set_experiment)"
   ]
  },
  {
   "cell_type": "code",
   "execution_count": 31,
   "metadata": {},
   "outputs": [],
   "source": [
    "# dir(mlflow)"
   ]
  },
  {
   "cell_type": "code",
   "execution_count": 32,
   "metadata": {},
   "outputs": [],
   "source": [
    "# import time\n",
    "# dir(time)"
   ]
  },
  {
   "cell_type": "code",
   "execution_count": 27,
   "metadata": {},
   "outputs": [
    {
     "data": {
      "text/plain": [
       "'11/27/2024 at 20h59m59s'"
      ]
     },
     "execution_count": 27,
     "metadata": {},
     "output_type": "execute_result"
    }
   ],
   "source": [
    "tm = time.localtime()\n",
    "tm = f\"{tm.tm_mon}/{tm.tm_mday}/{tm.tm_year} at {tm.tm_hour}h{tm.tm_min}m{tm.tm_sec}s\"\n",
    "tm"
   ]
  },
  {
   "cell_type": "code",
   "execution_count": 34,
   "metadata": {},
   "outputs": [
    {
     "name": "stdout",
     "output_type": "stream",
     "text": [
      "BASE_DIR /home/djoy2409-wsl/projects/software_development/ThrombinQSAR\n",
      "CONFIG_PATH_ /home/djoy2409-wsl/projects/software_development/ThrombinQSAR/data/config.yml\n"
     ]
    }
   ],
   "source": [
    "# help(mlflow.sklearn.load_model)"
   ]
  },
  {
   "cell_type": "code",
   "execution_count": 41,
   "metadata": {},
   "outputs": [
    {
     "data": {
      "text/plain": [
       "(False,\n",
       " ['__annotations__',\n",
       "  '__class__',\n",
       "  '__delattr__',\n",
       "  '__dict__',\n",
       "  '__dir__',\n",
       "  '__doc__',\n",
       "  '__eq__',\n",
       "  '__format__',\n",
       "  '__ge__',\n",
       "  '__getattribute__',\n",
       "  '__getstate__',\n",
       "  '__gt__',\n",
       "  '__hash__',\n",
       "  '__init__',\n",
       "  '__init_subclass__',\n",
       "  '__le__',\n",
       "  '__lt__',\n",
       "  '__module__',\n",
       "  '__ne__',\n",
       "  '__new__',\n",
       "  '__reduce__',\n",
       "  '__reduce_ex__',\n",
       "  '__repr__',\n",
       "  '__setattr__',\n",
       "  '__setstate__',\n",
       "  '__sizeof__',\n",
       "  '__sklearn_clone__',\n",
       "  '__str__',\n",
       "  '__subclasshook__',\n",
       "  '__weakref__',\n",
       "  '_build_request_for_signature',\n",
       "  '_check_feature_names',\n",
       "  '_check_n_features',\n",
       "  '_get_default_requests',\n",
       "  '_get_metadata_request',\n",
       "  '_get_param_names',\n",
       "  '_get_tags',\n",
       "  '_more_tags',\n",
       "  '_parameter_constraints',\n",
       "  '_repr_html_',\n",
       "  '_repr_html_inner',\n",
       "  '_repr_mimebundle_',\n",
       "  '_reset',\n",
       "  '_sklearn_auto_wrap_output_keys',\n",
       "  '_validate_data',\n",
       "  '_validate_params',\n",
       "  'copy',\n",
       "  'fit',\n",
       "  'fit_transform',\n",
       "  'get_feature_names_out',\n",
       "  'get_metadata_routing',\n",
       "  'get_params',\n",
       "  'inverse_transform',\n",
       "  'partial_fit',\n",
       "  'set_fit_request',\n",
       "  'set_inverse_transform_request',\n",
       "  'set_output',\n",
       "  'set_params',\n",
       "  'set_partial_fit_request',\n",
       "  'set_transform_request',\n",
       "  'transform',\n",
       "  'with_mean',\n",
       "  'with_std'])"
      ]
     },
     "execution_count": 41,
     "metadata": {},
     "output_type": "execute_result"
    }
   ],
   "source": [
    "hasattr(predictor.featurizer_cleaner.standardizer, 'mean_'), dir(predictor.featurizer_cleaner.standardizer)"
   ]
  },
  {
   "cell_type": "code",
   "execution_count": 1,
   "metadata": {},
   "outputs": [
    {
     "ename": "NameError",
     "evalue": "name 'true' is not defined",
     "output_type": "error",
     "traceback": [
      "\u001b[0;31m---------------------------------------------------------------------------\u001b[0m",
      "\u001b[0;31mNameError\u001b[0m                                 Traceback (most recent call last)",
      "Cell \u001b[0;32mIn[1], line 1\u001b[0m\n\u001b[0;32m----> 1\u001b[0m \u001b[38;5;28mbool\u001b[39m(\u001b[43mtrue\u001b[49m)\n",
      "\u001b[0;31mNameError\u001b[0m: name 'true' is not defined"
     ]
    }
   ],
   "source": [
    "bool(true)"
   ]
  },
  {
   "cell_type": "code",
   "execution_count": null,
   "metadata": {},
   "outputs": [],
   "source": []
  }
 ],
 "metadata": {
  "kernelspec": {
   "display_name": "thrombin",
   "language": "python",
   "name": "python3"
  },
  "language_info": {
   "codemirror_mode": {
    "name": "ipython",
    "version": 3
   },
   "file_extension": ".py",
   "mimetype": "text/x-python",
   "name": "python",
   "nbconvert_exporter": "python",
   "pygments_lexer": "ipython3",
   "version": "3.10.15"
  }
 },
 "nbformat": 4,
 "nbformat_minor": 2
}
