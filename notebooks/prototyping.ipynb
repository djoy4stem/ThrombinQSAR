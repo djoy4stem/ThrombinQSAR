{
 "cells": [
  {
   "cell_type": "code",
   "execution_count": 1,
   "metadata": {},
   "outputs": [
    {
     "data": {
      "text/plain": [
       "'/home/djoy2409-wsl/projects/software_development/ThrombinQSAR'"
      ]
     },
     "execution_count": 1,
     "metadata": {},
     "output_type": "execute_result"
    }
   ],
   "source": [
    "## IPython extension to reload modules before executing user code.\n",
    "# Autorelad is an IPython extension to reload modules before executing user code.\n",
    "%load_ext autoreload\n",
    "\n",
    "# Reload all modules (except those excluded by %aimport) every time before executing the Python code typed.\n",
    "%autoreload 2\n",
    "\n",
    "\n",
    "import os, sys\n",
    "ROOT_DIR = os.sep.join(os.path.abspath('.').split(os.sep)[:-1]) # +'/lib'\n",
    "sys.path.insert(0, ROOT_DIR)\n",
    "# sys.path.insert(0, ROOT_DIR + '/lib')\n",
    "ROOT_DIR"
   ]
  },
  {
   "cell_type": "code",
   "execution_count": 2,
   "metadata": {},
   "outputs": [
    {
     "name": "stderr",
     "output_type": "stream",
     "text": [
      "Failed to find the pandas get_adjustment() function to patch\n",
      "Failed to patch pandas - PandasTools will have limited functionality\n"
     ]
    },
    {
     "name": "stdout",
     "output_type": "stream",
     "text": [
      "BASE_DIR /home/djoy2409-wsl/projects/software_development/ThrombinQSAR\n",
      "CONFIG_PATH_ /home/djoy2409-wsl/projects/software_development/ThrombinQSAR/data/config.yml\n"
     ]
    }
   ],
   "source": [
    "from sklearn.metrics import mean_squared_error, mean_absolute_error\n",
    "from lightgbm import LGBMRegressor\n",
    "\n",
    "import lib\n",
    "from lib import steps\n",
    "from lib.steps import DataAcquisition, Trainer, FeaturizingAndCleaningObject, Predictor"
   ]
  },
  {
   "cell_type": "code",
   "execution_count": 11,
   "metadata": {},
   "outputs": [
    {
     "name": "stdout",
     "output_type": "stream",
     "text": [
      "BASE_DIR /home/djoy2409-wsl/projects/software_development/ThrombinQSAR\n",
      "CONFIG_PATH_ /home/djoy2409-wsl/projects/software_development/ThrombinQSAR/data/config.yml\n",
      "Saving updated config to file...\n",
      "{'data': {'full_data_path': '/home/djoy2409-wsl/projects/software_development/ThrombinQSAR/data/CHEMBL204_Ki.csv', 'smiles_col': 'smiles', 'target_col': 'y [pEC50/pKi]', 'test_path': '/home/djoy2409-wsl/projects/software_development/ThrombinQSAR/data/test.csv', 'test_ratio': 0.1, 'train_path': '/home/djoy2409-wsl/projects/software_development/ThrombinQSAR/data/train.csv', 'train_ratio': 0.8, 'val_path': '/home/djoy2409-wsl/projects/software_development/ThrombinQSAR/data/val.csv', 'val_ratio': 0.1}, 'featurizer_cleaner': {'df_func_gps': 'featurizers.DF_FUNC_GRPS', 'features': None, 'path': '/home/djoy2409-wsl/projects/software_development/ThrombinQSAR/models/featurizer_cleaner.pkl', 'standardizer': {'type': 'StandardScaler()'}}, 'predictor': {'model': {'path': '/home/djoy2409-wsl/projects/software_development/ThrombinQSAR/models/model_thrombin_inhib_reg.pkl'}}, 'training': {'best_model_path': '/home/djoy2409-wsl/projects/software_development/ThrombinQSAR/models/model_thrombin_inhib_reg.pkl', 'direction': 'minimize', 'models': [{'model': 'LGBMRegressor', 'params': {'colsample_bytree': [0.1, 1], 'importance_type': ['gain', 'split'], 'learning_rate': [0.01, 0.5], 'max_depth': [2, 50], 'min_child_samples': [2, 100], 'min_child_weight': [0.01, 1], 'min_split_gain': [0.001, 0.1], 'n_estimators': [5, 200], 'n_jobs': 8, 'num_leaves': [2, 100], 'random_state': 123, 'subsample': [0.1, 1.0], 'verbose': -1}}], 'scoring_function': 'mean_absolute_error'}}\n",
      "Data sets are already available and will be loaded...\n"
     ]
    },
    {
     "name": "stderr",
     "output_type": "stream",
     "text": [
      "[I 2024-11-18 15:35:00,180] A new study created in memory with name: no-name-af3bd286-97f4-4c29-ab17-bc7e39c9d995\n"
     ]
    },
    {
     "name": "stdout",
     "output_type": "stream",
     "text": [
      "curr_model_params = {'model': <class 'lightgbm.sklearn.LGBMRegressor'>, 'params': {'colsample_bytree': [0.1, 1], 'importance_type': ['gain', 'split'], 'learning_rate': [0.01, 0.5], 'max_depth': [2, 50], 'min_child_samples': [2, 100], 'min_child_weight': [0.01, 1], 'min_split_gain': [0.001, 0.1], 'n_estimators': [5, 200], 'n_jobs': 8, 'num_leaves': [2, 100], 'random_state': 123, 'subsample': [0.1, 1.0], 'verbose': -1}}\n"
     ]
    },
    {
     "name": "stderr",
     "output_type": "stream",
     "text": [
      "[I 2024-11-18 15:35:00,430] Trial 0 finished with value: 1.4179349875200145 and parameters: {'colsample_bytree': 0.8577730004939131, 'importance_type': 'gain', 'learning_rate': 0.366577955702709, 'max_depth': 27, 'min_child_samples': 72, 'min_child_weight': 0.13369458054604236, 'min_split_gain': 0.0039659152147691005, 'n_estimators': 142, 'n_jobs': 8, 'num_leaves': 54, 'random_state': 123, 'subsample': 0.6493242408633385, 'verbose': -1}. Best is trial 0 with value: 1.4179349875200145.\n"
     ]
    },
    {
     "name": "stdout",
     "output_type": "stream",
     "text": [
      "\n",
      "Saving best model...\n",
      "\n",
      "Saving config...\n",
      "\n",
      "\n",
      "best value 1.4179349875200145\n",
      "best params {'colsample_bytree': 0.8577730004939131, 'importance_type': 'gain', 'learning_rate': 0.366577955702709, 'max_depth': 27, 'min_child_samples': 72, 'min_child_weight': 0.13369458054604236, 'min_split_gain': 0.0039659152147691005, 'n_estimators': 142, 'n_jobs': 8, 'num_leaves': 54, 'random_state': 123, 'subsample': 0.6493242408633385, 'verbose': -1}\n",
      "\n",
      "\n",
      "mae_score 1.3519875680966518\n",
      "mse_score 2.8832989327961127\n"
     ]
    }
   ],
   "source": [
    "\n",
    "\n",
    "da = DataAcquisition()\n",
    "print(da.config)\n",
    "train, val, test = da.get_data()\n",
    "\n",
    "trainer = Trainer()\n",
    "trainer.train(\n",
    "            scoring_function=mean_absolute_error,                                     \n",
    "            num_trials=1,\n",
    "            standardize=False,\n",
    "            n_jobs=1)\n",
    "\n",
    "print(\"\\n\\nbest value\",  trainer.best_results[0][\"best_value\"])  \n",
    "print(\"best params\", trainer.best_results[0][\"best_params\"])  \n",
    "\n",
    "predictor = Predictor()\n",
    "y_test_pred = predictor.model.predict(test[test.columns.difference([predictor.target])])\n",
    "mae_score = mean_absolute_error(test[predictor.target], y_test_pred)\n",
    "mse_score = mean_squared_error(test[predictor.target], y_test_pred)\n",
    "\n",
    "print(\"\\n\\nmae_score\",  mae_score)\n",
    "print(\"mse_score\",  mse_score) "
   ]
  }
 ],
 "metadata": {
  "kernelspec": {
   "display_name": "thrombin",
   "language": "python",
   "name": "python3"
  },
  "language_info": {
   "codemirror_mode": {
    "name": "ipython",
    "version": 3
   },
   "file_extension": ".py",
   "mimetype": "text/x-python",
   "name": "python",
   "nbconvert_exporter": "python",
   "pygments_lexer": "ipython3",
   "version": "3.10.15"
  }
 },
 "nbformat": 4,
 "nbformat_minor": 2
}
